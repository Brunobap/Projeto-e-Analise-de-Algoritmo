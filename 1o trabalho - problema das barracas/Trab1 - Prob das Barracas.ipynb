{
 "cells": [
  {
   "cell_type": "markdown",
   "id": "3b45907c",
   "metadata": {},
   "source": [
    "# Trabalho Prático 1 - Problemas das Barracas\n",
    "    Resumo: \"Em um evento, os homens e as mulheres estão em um campo (representado por um plano cartesiano comum), e devem se estabelecer em barracas quadradas, todas paralelas. O trabalho é receber um monte de entradas com o número de barracas masculinas e femininas, depois as coordenadas do ponto inferior esquerdo e superior direito de cada barraca, e informar se é possível separar as barracas por um linha de espessura infima.\"\n",
    "    \n",
    "    Entradas:\n",
    "    OBS: \"A entrada pode ser lida de qualquer arquivo ou através da entrada padrão (teclado).\"\n",
    "    3 3   <-- número de barracas masculinas e femininas\n",
    "    10 10 20 20\n",
    "    30 30 40 40  <-- coordenadas dos pontos para determinar a barraca\n",
    "    50 50 60 60\n",
    "    30 10 40 20\n",
    "    50 30 60 40\n",
    "    70 50 80 60\n",
    "    0 0   <-- final da execução\n",
    "    \n",
    "    Saídas:\n",
    "    OBS: \"A saída não deve ser escrita em nenhum arquivo. Ela deve ser escrita na saída padrão.\"\n",
    "    \"É possível separar os dois grupos!\", se for possível separá-los. Caso contrário, imprima: “Não é possível separar os dois grupos!\"."
   ]
  },
  {
   "cell_type": "markdown",
   "id": "f4d7b4da",
   "metadata": {},
   "source": [
    "Estratégia: usar perímetros entre duplas de barracas e verificar suas colisões com outras duplas ou barracas.\n",
    "\n",
    "- Usar biblioteca \"polygons\", possui objetos para polígonos e verificação de colisão.\n",
    "\n",
    "4 casos possíveis, de acordo com o número de barracas:\n",
    "\n",
    "    -> se A,B = 0: encerra o programa\n",
    "    -> se A,B = 1: possível direto\n",
    "    -> se A>=1 e B=0: possível direto\n",
    "    -> se A>1 e B=1: B fixo, verifica todas as duplas possíveis com A\n",
    "    -> se A,B>1: verifica todas as duplas possiveis com A com todas as duplas possíveis com B"
   ]
  },
  {
   "cell_type": "code",
   "execution_count": null,
   "id": "09f2d8ac",
   "metadata": {},
   "outputs": [
    {
     "name": "stdout",
     "output_type": "stream",
     "text": [
      "1 1\n",
      "1 2 3 4\n",
      "5 6 7 8\n",
      "1 É possível separar\n"
     ]
    }
   ],
   "source": [
    "\n",
    "strIni = \"\"\n",
    "nCaso = 1\n",
    "\n",
    "while strIni != \"0 0\":\n",
    "    strIni = input()\n",
    "    numsIni = strIni.split(\" \")\n",
    "    numsIni = [int(numsIni[0]),int(numsIni[1])]\n",
    "\n",
    "    grpA = []\n",
    "    grpB = []\n",
    "\n",
    "    for i in range(numsIni[0]):\n",
    "        strNovo = input()\n",
    "        numsNovo = strNovo.split(\" \")\n",
    "        numsNovo = [int(numsNovo[0]),int(numsNovo[1]), int(numsNovo[2]),int(numsNovo[3])]\n",
    "        infEsq = [numsNovo[0], numsNovo[1]]\n",
    "        supDir = [numsNovo[2], numsNovo[3]]\n",
    "        novaBarraca = (infEsq, supDir)\n",
    "        grpA.append(novaBarraca)\n",
    "\n",
    "    for i in range(numsIni[1]):\n",
    "        strNovo = input()\n",
    "        numsNovo = strNovo.split(\" \")\n",
    "        numsNovo = [int(numsNovo[0]),int(numsNovo[1]), int(numsNovo[2]),int(numsNovo[3])]\n",
    "        infEsq = [numsNovo[0], numsNovo[1]]\n",
    "        supDir = [numsNovo[2], numsNovo[3]]\n",
    "        novaBarraca = (infEsq, supDir)\n",
    "        grpB.append(novaBarraca)\n",
    "        \n",
    "    if (numsIni[0] == 0 or numsIni[1] == 0) or (numsIni[0] == 1 and numsIni[1] == 1):\n",
    "        print(\"Caso \",nCaso,\"É possível separar os dois grupos!\")\n",
    "    else if (numsIni[0] == 1 or numsIni[1] == 1):\n",
    "        # caso com 1 barraca fixa e verificação de duplas\n",
    "    else:\n",
    "        # caso com verificações de pares de duplas\n",
    "        \n",
    "    strIni = input()\n",
    "    nCaso = nCaso + 1\n",
    "\n",
    "    print(\"A: \",grpA)\n",
    "    print(\"B: \",grpB)"
   ]
  },
  {
   "cell_type": "code",
   "execution_count": null,
   "id": "ce396ef1",
   "metadata": {},
   "outputs": [],
   "source": []
  }
 ],
 "metadata": {
  "kernelspec": {
   "display_name": "Python 3 (ipykernel)",
   "language": "python",
   "name": "python3"
  },
  "language_info": {
   "codemirror_mode": {
    "name": "ipython",
    "version": 3
   },
   "file_extension": ".py",
   "mimetype": "text/x-python",
   "name": "python",
   "nbconvert_exporter": "python",
   "pygments_lexer": "ipython3",
   "version": "3.11.4"
  }
 },
 "nbformat": 4,
 "nbformat_minor": 5
}
